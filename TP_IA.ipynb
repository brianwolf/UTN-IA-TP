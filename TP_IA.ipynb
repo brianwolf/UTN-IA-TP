{
  "nbformat": 4,
  "nbformat_minor": 0,
  "metadata": {
    "colab": {
      "name": "IMG Resize",
      "provenance": [],
      "collapsed_sections": []
    },
    "kernelspec": {
      "display_name": "Python 3",
      "name": "python3"
    },
    "accelerator": "GPU"
  },
  "cells": [
    {
      "cell_type": "markdown",
      "metadata": {
        "id": "qNXfHC-UDkLL",
        "colab_type": "text"
      },
      "source": [
        "Todos los Imports"
      ]
    },
    {
      "cell_type": "code",
      "metadata": {
        "id": "1c1YsSu5kwZ-",
        "colab_type": "code",
        "colab": {}
      },
      "source": [
        "import PIL\n",
        "from PIL import Image, ImageOps\n",
        "import os\n",
        "import fnmatch\n",
        "import shutil\n",
        "import sys\n",
        "from tensorflow.python.keras.preprocessing.image import ImageDataGenerator\n",
        "from tensorflow.python.keras import optimizers\n",
        "from tensorflow.python.keras.models import Sequential\n",
        "from tensorflow.python.keras.layers import Dropout, Flatten, Dense, Activation\n",
        "from tensorflow.python.keras.layers import  Convolution2D, MaxPooling2D\n",
        "from tensorflow.python.keras import backend as K\n",
        "import tensorflow as tf\n",
        "import matplotlib.pyplot as plt\n",
        "import numpy as np\n",
        "from keras.preprocessing.image import load_img, img_to_array\n",
        "from keras.models import load_model\n",
        "from tensorflow import keras\n",
        "import h5py\n",
        "from enum import Enum\n"
      ],
      "execution_count": 0,
      "outputs": []
    },
    {
      "cell_type": "markdown",
      "metadata": {
        "id": "z_gE8uiOkhFm",
        "colab_type": "text"
      },
      "source": [
        "Crear Directorios"
      ]
    },
    {
      "cell_type": "code",
      "metadata": {
        "id": "p-BMCUb9kjk0",
        "colab_type": "code",
        "colab": {}
      },
      "source": [
        "##CrearDirectorios\n",
        "os.mkdir(\"./img\")\n",
        "os.mkdir(\"./img_resize\")\n",
        "os.mkdir(\"./entrenamiento\")\n",
        "os.mkdir(\"./entrenamiento/bulbasaur\")\n",
        "os.mkdir(\"./entrenamiento/pikachu\")\n",
        "os.mkdir(\"./entrenamiento/charmander\")\n",
        "os.mkdir(\"./entrenamiento/squirtle\")\n",
        "os.mkdir(\"./validacion\")\n",
        "os.mkdir(\"./validacion/bulbasaur\")\n",
        "os.mkdir(\"./validacion/pikachu\")\n",
        "os.mkdir(\"./validacion/charmander\")\n",
        "os.mkdir(\"./validacion/squirtle\")"
      ],
      "execution_count": 0,
      "outputs": []
    },
    {
      "cell_type": "markdown",
      "metadata": {
        "id": "kcqXzpybk2v7",
        "colab_type": "text"
      },
      "source": [
        "Crear DATASET a partir de IMG (PNG) # Solo mueve a Entrenamiento"
      ]
    },
    {
      "cell_type": "code",
      "metadata": {
        "id": "ca868M-_zuba",
        "colab_type": "code",
        "colab": {}
      },
      "source": [
        "pathImagenesOriginales = './img/'\n",
        "pathImagenesReducidas =  './img_resize/'\n",
        "listaImagenes = fnmatch.filter(os.listdir(pathImagenesOriginales), '*')\n",
        "no_png = \".png\"\n",
        "bul = \"bul\"\n",
        "pik = \"pik\"\n",
        "ch= \"ch\"\n",
        "sq = \"sq\"\n",
        "\n",
        "for i in listaImagenes:\n",
        "    if  no_png not in i:\n",
        "        listaImagenes.remove(i)\n",
        "    \n",
        "for x in listaImagenes: \n",
        "\n",
        "    img = Image.open(pathImagenesOriginales+x)\n",
        "    new_img = img.resize((28,28))\n",
        "    new_img = ImageOps.grayscale(new_img)\n",
        "    new_img.save(pathImagenesReducidas + x)\n",
        "\n",
        "    if bul in x:\n",
        "      shutil.move(pathImagenesReducidas + x, './entrenamiento/bulbasaur')\n",
        "    if pik in x:\n",
        "      shutil.move(pathImagenesReducidas + x, './entrenamiento/pikachu')\n",
        "    if ch in x:\n",
        "      shutil.move(pathImagenesReducidas + x, './entrenamiento/charmander')\n",
        "    if sq in x:\n",
        "      shutil.move(pathImagenesReducidas + x, './entrenamiento/squirtle')\n",
        "\n",
        "##os.rmdir('./')\n",
        "os.listdir(\"./entrenamiento\")"
      ],
      "execution_count": 0,
      "outputs": []
    },
    {
      "cell_type": "markdown",
      "metadata": {
        "id": "ti3_Zg9UDpyo",
        "colab_type": "text"
      },
      "source": [
        "Creacion y entrenamiento de la RED"
      ]
    },
    {
      "cell_type": "code",
      "metadata": {
        "id": "pUDD4b89RR4_",
        "colab_type": "code",
        "colab": {}
      },
      "source": [
        "tf.compat.v1.disable_eager_execution() #Esto si lo corren LOCAL quiza lo tengan que comentar\n",
        "K.clear_session()\n",
        "\n",
        "data_entrenamiento = './entrenamiento/'\n",
        "data_validacion = './entrenamiento/' # Cambiar\n",
        "\n",
        "\"\"\"\n",
        "Parameters\n",
        "\"\"\"\n",
        "epocas=20\n",
        "longitud, altura = 28, 28\n",
        "batch_size = 32\n",
        "pasos = 1000\n",
        "validation_steps = 10\n",
        "clases = 4\n",
        "lr = 0.0004\n",
        "\n",
        "\n",
        "##Preparamos nuestras imagenes\n",
        "\n",
        "entrenamiento_datagen = ImageDataGenerator(\n",
        "    rescale=1. / 255,\n",
        "    shear_range=0.2,\n",
        "    zoom_range=0.2,\n",
        "    horizontal_flip=True)\n",
        "\n",
        "test_datagen = ImageDataGenerator(rescale=1. / 255)\n",
        "\n",
        "entrenamiento_generador = entrenamiento_datagen.flow_from_directory(\n",
        "    data_entrenamiento,\n",
        "    target_size=(altura, longitud),\n",
        "    batch_size=batch_size,\n",
        "    class_mode='categorical')\n",
        "\n",
        "validacion_generador = test_datagen.flow_from_directory(\n",
        "    data_validacion,\n",
        "    target_size=(altura, longitud),\n",
        "    batch_size=batch_size,\n",
        "    class_mode='categorical')\n",
        "\n",
        "cnn = Sequential()\n",
        "cnn.add(Flatten(input_shape=(28, 28,3)))\n",
        "cnn.add(Dense(512, activation='relu'))\n",
        "cnn.add(Dropout(0.5))\n",
        "cnn.add(Dense(clases, activation='softmax'))\n",
        "\n",
        "cnn.compile(loss='categorical_crossentropy',\n",
        "            optimizer=optimizers.Adam(lr=lr),\n",
        "            metrics=['accuracy'])\n",
        "\n",
        "\n",
        "\n",
        "\n",
        "cnn.fit_generator(\n",
        "    entrenamiento_generador,\n",
        "    steps_per_epoch=pasos,\n",
        "    epochs=epocas,\n",
        "    validation_data=validacion_generador,\n",
        "    validation_steps=validation_steps)\n",
        "\n",
        "target_dir = './modelo/'\n",
        "if not os.path.exists(target_dir):\n",
        "  os.mkdir(target_dir)\n",
        "cnn.save('./modelo/modelo.h5')\n",
        "cnn.save_weights('./modelo/pesos.h5')"
      ],
      "execution_count": 0,
      "outputs": []
    },
    {
      "cell_type": "markdown",
      "metadata": {
        "id": "KSNYGIqdqB3o",
        "colab_type": "text"
      },
      "source": [
        "Print Grafico + Print ID del Array"
      ]
    },
    {
      "cell_type": "code",
      "metadata": {
        "id": "yVdbQ6bGZMRL",
        "colab_type": "code",
        "colab": {}
      },
      "source": [
        "plt.plot(cnn.history.history['accuracy'], label='accuracy')\n",
        "plt.plot(cnn.history.history['val_accuracy'], label = 'val_accuracy')\n",
        "plt.xlabel('Epoch')\n",
        "plt.ylabel('Accuracy')\n",
        "plt.ylim([0.5, 1.3])\n",
        "plt.legend(loc='lower right')\n",
        "print(entrenamiento_generador.class_indices)\n",
        "print(\"\\n\")"
      ],
      "execution_count": 0,
      "outputs": []
    },
    {
      "cell_type": "markdown",
      "metadata": {
        "id": "AaKGzAYIDr8a",
        "colab_type": "text"
      },
      "source": [
        "Predict Automatico\n"
      ]
    },
    {
      "cell_type": "code",
      "metadata": {
        "id": "Ae3nbThUZ2yD",
        "colab_type": "code",
        "colab": {}
      },
      "source": [
        "longitud, altura = 28, 28\n",
        "cnn = keras.models.load_model('./modelo/modelo.h5')\n",
        "cnn.load_weights('./modelo/pesos.h5')\n",
        "class TipoAnimal(Enum):\n",
        "    BULBASAUR = 'BULBASAUR'\n",
        "    PIKACHU = 'PIKACHU'\n",
        "    CHARMANDER = 'CHARMANDER'\n",
        "    SQUIRTLE = 'SQUIRTLE'\n",
        "    DESCONOCIDO = 'DESCONOCIDO'\n",
        "\n",
        "\n",
        "def predict(file: str) -> TipoAnimal:\n",
        "\n",
        "    x = load_img(file, target_size=(longitud, altura))\n",
        "    x = img_to_array(x)\n",
        "    x = np.expand_dims(x, axis=0)\n",
        "\n",
        "    array = cnn.predict(x)\n",
        "    result = array[0]\n",
        "    answer = np.argmax(result)\n",
        "\n",
        "    if answer == 4:\n",
        "        return TipoAnimal.DESCONOCIDO\n",
        "    elif answer == 0:\n",
        "        return TipoAnimal.BULBASAUR\n",
        "    elif answer == 1:\n",
        "        return TipoAnimal.CHARMANDER\n",
        "    elif answer == 2:\n",
        "        return TipoAnimal.PIKACHU\n",
        "    elif answer == 3:\n",
        "        return TipoAnimal.SQUIRTLE\n",
        "\n",
        "    return TipoAnimal.DESCONOCIDO\n",
        "\n",
        "\n",
        "# PRUEBAS\n",
        "aciertos_bul = 0\n",
        "veces_bul = 22\n",
        "for vez_bul in range(veces_bul):\n",
        "\n",
        "    imagen_bulbasaur = f'./entrenamiento/bulbasaur/bul{vez_bul}.png'\n",
        "    if predict(imagen_bulbasaur) == TipoAnimal.BULBASAUR:\n",
        "        aciertos_bul += 1\n",
        "\n",
        "aciertos_char = 0\n",
        "veces_char = 22\n",
        "for vez_char in range(veces_char):\n",
        "\n",
        "    imagen_charmander = f'./entrenamiento/charmander/ch{vez_char}.png'\n",
        "    if predict(imagen_charmander) == TipoAnimal.CHARMANDER:\n",
        "        aciertos_char += 1\n",
        "\n",
        "aciertos_pik = 0\n",
        "veces_pik = 22\n",
        "\n",
        "for vez_pik in range(veces_pik):\n",
        "\n",
        "    imagen_pikachu = f'./entrenamiento/pikachu/pik{vez_pik}.png'\n",
        "    if predict(imagen_pikachu) == TipoAnimal.PIKACHU:\n",
        "        aciertos_pik += 1\n",
        "\n",
        "aciertos_sq = 0\n",
        "veces_sq = 22\n",
        "\n",
        "for vez_sq in range(veces_sq):\n",
        "\n",
        "    imagen_squirtle = f'./entrenamiento/squirtle/sq{vez_sq}.png'\n",
        "    if predict(imagen_squirtle) == TipoAnimal.SQUIRTLE:\n",
        "        aciertos_sq += 1\n",
        "\n",
        "print('\\n\\nRESULTADOS:\\n')\n",
        "print(\n",
        "    f'BULBAUSAR -> aciertos:{aciertos_bul}, pruebas:{veces_bul}, porcentaje:{100 * aciertos_bul / veces_bul}%')\n",
        "print(\n",
        "    f'CHARMANDER -> aciertos:{aciertos_char}, pruebas:{veces_char}, porcentaje: {100 * aciertos_char / veces_char}%')\n",
        "print(\n",
        "    f'PIKACHU -> aciertos:{aciertos_pik}, pruebas:{veces_pik}, porcentaje: {100 * aciertos_pik / veces_pik}%')\n",
        "print(\n",
        "    f'SQUIRTLE -> aciertos:{aciertos_sq}, pruebas:{veces_sq}, porcentaje: {100 * aciertos_sq / veces_sq}%')"
      ],
      "execution_count": 0,
      "outputs": []
    },
    {
      "cell_type": "markdown",
      "metadata": {
        "id": "0ed9kk8rcPak",
        "colab_type": "text"
      },
      "source": [
        "Predict Manual"
      ]
    },
    {
      "cell_type": "code",
      "metadata": {
        "id": "queVcUzqcRa9",
        "colab_type": "code",
        "colab": {}
      },
      "source": [
        "import numpy as np\n",
        "from keras.preprocessing.image import load_img, img_to_array\n",
        "from keras.models import load_model\n",
        "import tensorflow as tf\n",
        "from tensorflow import keras\n",
        "import matplotlib.pyplot as plt\n",
        "import h5py\n",
        "\n",
        "longitud, altura = 28, 28\n",
        "cnn = keras.models.load_model('./modelo/modelo.h5')\n",
        "cnn.load_weights('./modelo/pesos.h5')\n",
        "\n",
        "def predict(file):\n",
        "  x = load_img(file, target_size=(longitud, altura))\n",
        "  x = img_to_array(x)\n",
        "  x = np.expand_dims(x, axis=0)\n",
        "  array = cnn.predict(x)\n",
        "  result = array[0]\n",
        "  answer = np.argmax(result)\n",
        "  if answer == 0:\n",
        "    print(\"pred: Bulbasaur\")\n",
        "  elif answer == 1:\n",
        "    print(\"pred: Charmander\")\n",
        "  elif answer == 2:\n",
        "    print(\"pred: Pikachu\")\n",
        "  elif answer == 3:\n",
        "    print(\"pred: Squirtle\")\n",
        "\n",
        "  return answer\n",
        "\n",
        "predict(\"./entrenamiento/pikachu/pik16.png\")"
      ],
      "execution_count": 0,
      "outputs": []
    },
    {
      "cell_type": "markdown",
      "metadata": {
        "id": "WxK-8_OtsVdI",
        "colab_type": "text"
      },
      "source": [
        "Funcion para resize y greyscale manual"
      ]
    },
    {
      "cell_type": "code",
      "metadata": {
        "id": "ihUEeBDBc8xO",
        "colab_type": "code",
        "colab": {}
      },
      "source": [
        "\n",
        "img = Image.open(\"./pik2.png\")\n",
        "new_img = img.resize((28,28))\n",
        "new_img = ImageOps.grayscale(new_img)\n",
        "new_img.save(\"pik2B.png\")"
      ],
      "execution_count": 0,
      "outputs": []
    }
  ]
}